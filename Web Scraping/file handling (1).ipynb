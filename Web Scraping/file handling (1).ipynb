{
 "cells": [
  {
   "cell_type": "markdown",
   "metadata": {},
   "source": [
    "# File Handling"
   ]
  },
  {
   "cell_type": "code",
   "execution_count": 13,
   "metadata": {},
   "outputs": [],
   "source": [
    "f = open('student.txt',mode ='w') # write file"
   ]
  },
  {
   "cell_type": "code",
   "execution_count": 14,
   "metadata": {},
   "outputs": [
    {
     "data": {
      "text/plain": [
       "17"
      ]
     },
     "execution_count": 14,
     "metadata": {},
     "output_type": "execute_result"
    }
   ],
   "source": [
    "f.write('hello how are you')"
   ]
  },
  {
   "cell_type": "code",
   "execution_count": 15,
   "metadata": {},
   "outputs": [],
   "source": [
    "f.close()"
   ]
  },
  {
   "cell_type": "code",
   "execution_count": 16,
   "metadata": {},
   "outputs": [],
   "source": [
    "f = open('student.txt',mode ='r') # read file"
   ]
  },
  {
   "cell_type": "code",
   "execution_count": 17,
   "metadata": {},
   "outputs": [],
   "source": [
    "data = f.read()"
   ]
  },
  {
   "cell_type": "code",
   "execution_count": 18,
   "metadata": {},
   "outputs": [
    {
     "name": "stdout",
     "output_type": "stream",
     "text": [
      "hello how are you\n"
     ]
    }
   ],
   "source": [
    "print(data)"
   ]
  },
  {
   "cell_type": "code",
   "execution_count": 19,
   "metadata": {},
   "outputs": [],
   "source": [
    "f.close()"
   ]
  },
  {
   "cell_type": "code",
   "execution_count": 20,
   "metadata": {},
   "outputs": [],
   "source": [
    "f = open('student.txt',mode ='rb') # read in binary mode"
   ]
  },
  {
   "cell_type": "code",
   "execution_count": 21,
   "metadata": {},
   "outputs": [],
   "source": [
    "data = f.read()"
   ]
  },
  {
   "cell_type": "code",
   "execution_count": 22,
   "metadata": {},
   "outputs": [
    {
     "name": "stdout",
     "output_type": "stream",
     "text": [
      "b'hello how are you'\n"
     ]
    }
   ],
   "source": [
    "print(data)"
   ]
  },
  {
   "cell_type": "code",
   "execution_count": 23,
   "metadata": {},
   "outputs": [],
   "source": [
    "f.close()"
   ]
  },
  {
   "cell_type": "code",
   "execution_count": 24,
   "metadata": {},
   "outputs": [],
   "source": [
    "f = open('student.txt','r')"
   ]
  },
  {
   "cell_type": "code",
   "execution_count": 25,
   "metadata": {},
   "outputs": [
    {
     "name": "stdout",
     "output_type": "stream",
     "text": [
      "<_io.TextIOWrapper name='student.txt' mode='r' encoding='cp1252'>\n"
     ]
    }
   ],
   "source": [
    "print(f)"
   ]
  },
  {
   "cell_type": "code",
   "execution_count": 27,
   "metadata": {},
   "outputs": [],
   "source": [
    "f.close()"
   ]
  },
  {
   "cell_type": "code",
   "execution_count": 37,
   "metadata": {},
   "outputs": [],
   "source": [
    "# file object veriable\n",
    "\n",
    "f = open('student.txt', mode ='r', encoding = 'utf-8')"
   ]
  },
  {
   "cell_type": "code",
   "execution_count": 38,
   "metadata": {},
   "outputs": [
    {
     "name": "stdout",
     "output_type": "stream",
     "text": [
      "student.txt\n"
     ]
    }
   ],
   "source": [
    "print(f.name)"
   ]
  },
  {
   "cell_type": "code",
   "execution_count": 39,
   "metadata": {},
   "outputs": [
    {
     "name": "stdout",
     "output_type": "stream",
     "text": [
      "r\n"
     ]
    }
   ],
   "source": [
    "print(f.mode)"
   ]
  },
  {
   "cell_type": "code",
   "execution_count": 40,
   "metadata": {},
   "outputs": [
    {
     "name": "stdout",
     "output_type": "stream",
     "text": [
      "True\n"
     ]
    }
   ],
   "source": [
    "print(f.readable())"
   ]
  },
  {
   "cell_type": "code",
   "execution_count": 41,
   "metadata": {},
   "outputs": [
    {
     "name": "stdout",
     "output_type": "stream",
     "text": [
      "False\n"
     ]
    }
   ],
   "source": [
    "print(f.writable())"
   ]
  },
  {
   "cell_type": "code",
   "execution_count": 42,
   "metadata": {},
   "outputs": [
    {
     "name": "stdout",
     "output_type": "stream",
     "text": [
      "student.txt\n"
     ]
    }
   ],
   "source": [
    "print(f.name)"
   ]
  },
  {
   "cell_type": "code",
   "execution_count": 43,
   "metadata": {},
   "outputs": [],
   "source": [
    "f.close()"
   ]
  },
  {
   "cell_type": "code",
   "execution_count": 44,
   "metadata": {},
   "outputs": [
    {
     "name": "stdout",
     "output_type": "stream",
     "text": [
      "True\n"
     ]
    }
   ],
   "source": [
    "print(f.closed)"
   ]
  },
  {
   "cell_type": "code",
   "execution_count": 46,
   "metadata": {},
   "outputs": [
    {
     "name": "stdout",
     "output_type": "stream",
     "text": [
      "file name: student.txt\n",
      "file mode: r\n",
      "file readable: True\n",
      "file writeable: False\n",
      "file closed: False\n",
      "file closed: True\n"
     ]
    }
   ],
   "source": [
    "f = open('student.txt', mode ='r', encoding = 'utf-8')\n",
    "\n",
    "print('file name:', f.name)\n",
    "print('file mode:', f.mode)\n",
    "print('file readable:', f.readable())\n",
    "print('file writeable:', f.writable())\n",
    "print('file closed:', f.closed)\n",
    "f.close()\n",
    "print('file closed:', f.closed)"
   ]
  },
  {
   "cell_type": "code",
   "execution_count": 47,
   "metadata": {},
   "outputs": [
    {
     "name": "stdout",
     "output_type": "stream",
     "text": [
      "file name: student.txt\n",
      "file mode: w\n",
      "file readable: False\n",
      "file writeable: True\n",
      "file closed: False\n",
      "file closed: True\n"
     ]
    }
   ],
   "source": [
    "f = open('student.txt', mode ='w', encoding = 'utf-8')\n",
    "\n",
    "print('file name:', f.name)\n",
    "print('file mode:', f.mode)\n",
    "print('file readable:', f.readable())\n",
    "print('file writeable:', f.writable())\n",
    "print('file closed:', f.closed)\n",
    "f.close()\n",
    "print('file closed:', f.closed)"
   ]
  },
  {
   "cell_type": "code",
   "execution_count": 48,
   "metadata": {},
   "outputs": [
    {
     "name": "stdout",
     "output_type": "stream",
     "text": [
      "file name: student1.txt\n",
      "file mode: x\n",
      "file readable: False\n",
      "file writeable: True\n",
      "file closed: False\n",
      "file closed: True\n"
     ]
    }
   ],
   "source": [
    "f = open('student1.txt', mode ='x', encoding = 'utf-8')\n",
    "\n",
    "print('file name:', f.name)\n",
    "print('file mode:', f.mode)\n",
    "print('file readable:', f.readable())\n",
    "print('file writeable:', f.writable())\n",
    "print('file closed:', f.closed)\n",
    "f.close()\n",
    "print('file closed:', f.closed)"
   ]
  },
  {
   "cell_type": "code",
   "execution_count": 49,
   "metadata": {},
   "outputs": [
    {
     "name": "stdout",
     "output_type": "stream",
     "text": [
      "file name: student.txt\n",
      "file mode: r+\n",
      "file readable: True\n",
      "file writeable: True\n",
      "file closed: False\n",
      "file closed: True\n"
     ]
    }
   ],
   "source": [
    "f = open('student.txt', mode ='r+', encoding = 'utf-8')\n",
    "\n",
    "print('file name:', f.name)\n",
    "print('file mode:', f.mode)\n",
    "print('file readable:', f.readable())\n",
    "print('file writeable:', f.writable())\n",
    "print('file closed:', f.closed)\n",
    "f.close()\n",
    "print('file closed:', f.closed)"
   ]
  },
  {
   "cell_type": "code",
   "execution_count": 50,
   "metadata": {},
   "outputs": [
    {
     "name": "stdout",
     "output_type": "stream",
     "text": [
      "file name: student.txt\n",
      "file mode: w+\n",
      "file readable: True\n",
      "file writeable: True\n",
      "file closed: False\n",
      "file closed: True\n"
     ]
    }
   ],
   "source": [
    "f = open('student.txt', mode ='w+', encoding = 'utf-8')\n",
    "\n",
    "print('file name:', f.name)\n",
    "print('file mode:', f.mode)\n",
    "print('file readable:', f.readable())\n",
    "print('file writeable:', f.writable())\n",
    "print('file closed:', f.closed)\n",
    "f.close()\n",
    "print('file closed:', f.closed)"
   ]
  },
  {
   "cell_type": "code",
   "execution_count": 51,
   "metadata": {},
   "outputs": [
    {
     "name": "stdout",
     "output_type": "stream",
     "text": [
      "file name: student.txt\n",
      "file mode: a+\n",
      "file readable: True\n",
      "file writeable: True\n",
      "file closed: False\n",
      "file closed: True\n"
     ]
    }
   ],
   "source": [
    "f = open('student.txt', mode ='a+', encoding = 'utf-8')\n",
    "\n",
    "print('file name:', f.name)\n",
    "print('file mode:', f.mode)\n",
    "print('file readable:', f.readable())\n",
    "print('file writeable:', f.writable())\n",
    "print('file closed:', f.closed)\n",
    "f.close()\n",
    "print('file closed:', f.closed)"
   ]
  },
  {
   "cell_type": "code",
   "execution_count": 52,
   "metadata": {},
   "outputs": [
    {
     "name": "stdout",
     "output_type": "stream",
     "text": [
      "file name: pythona.jpg\n",
      "file mode: rb\n",
      "file readable: True\n",
      "file writeable: False\n",
      "file closed: False\n",
      "file closed: True\n"
     ]
    }
   ],
   "source": [
    "f = open('pythona.jpg', mode ='rb')\n",
    "\n",
    "print('file name:', f.name)\n",
    "print('file mode:', f.mode)\n",
    "print('file readable:', f.readable())\n",
    "print('file writeable:', f.writable())\n",
    "print('file closed:', f.closed)\n",
    "f.close()\n",
    "print('file closed:', f.closed)"
   ]
  },
  {
   "cell_type": "code",
   "execution_count": 53,
   "metadata": {},
   "outputs": [
    {
     "name": "stdout",
     "output_type": "stream",
     "text": [
      "file name: pythona.jpg\n",
      "file mode: wb\n",
      "file readable: False\n",
      "file writeable: True\n",
      "file closed: False\n",
      "file closed: True\n"
     ]
    }
   ],
   "source": [
    "f = open('pythona.jpg', mode ='wb')\n",
    "\n",
    "print('file name:', f.name)\n",
    "print('file mode:', f.mode)\n",
    "print('file readable:', f.readable())\n",
    "print('file writeable:', f.writable())\n",
    "print('file closed:', f.closed)\n",
    "f.close()\n",
    "print('file closed:', f.closed)"
   ]
  },
  {
   "cell_type": "code",
   "execution_count": 54,
   "metadata": {},
   "outputs": [
    {
     "name": "stdout",
     "output_type": "stream",
     "text": [
      "file name: pythona.jpg\n",
      "file mode: ab\n",
      "file readable: False\n",
      "file writeable: True\n",
      "file closed: False\n",
      "file closed: True\n"
     ]
    }
   ],
   "source": [
    "f = open('pythona.jpg', mode ='ab')\n",
    "\n",
    "print('file name:', f.name)\n",
    "print('file mode:', f.mode)\n",
    "print('file readable:', f.readable())\n",
    "print('file writeable:', f.writable())\n",
    "print('file closed:', f.closed)\n",
    "f.close()\n",
    "print('file closed:', f.closed)"
   ]
  },
  {
   "cell_type": "code",
   "execution_count": 55,
   "metadata": {},
   "outputs": [
    {
     "name": "stdout",
     "output_type": "stream",
     "text": [
      "file name: pythona1.jpg\n",
      "file mode: xb\n",
      "file readable: False\n",
      "file writeable: True\n",
      "file closed: False\n",
      "file closed: True\n"
     ]
    }
   ],
   "source": [
    "f = open('pythona1.jpg', mode ='xb')\n",
    "\n",
    "print('file name:', f.name)\n",
    "print('file mode:', f.mode)\n",
    "print('file readable:', f.readable())\n",
    "print('file writeable:', f.writable())\n",
    "print('file closed:', f.closed)\n",
    "f.close()\n",
    "print('file closed:', f.closed)"
   ]
  },
  {
   "cell_type": "code",
   "execution_count": 56,
   "metadata": {},
   "outputs": [
    {
     "name": "stdout",
     "output_type": "stream",
     "text": [
      "file name: pythona.jpg\n",
      "file mode: rb+\n",
      "file readable: True\n",
      "file writeable: True\n",
      "file closed: False\n",
      "file closed: True\n"
     ]
    }
   ],
   "source": [
    "f = open('pythona.jpg', mode ='rb+')\n",
    "\n",
    "print('file name:', f.name)\n",
    "print('file mode:', f.mode)\n",
    "print('file readable:', f.readable())\n",
    "print('file writeable:', f.writable())\n",
    "print('file closed:', f.closed)\n",
    "f.close()\n",
    "print('file closed:', f.closed)"
   ]
  },
  {
   "cell_type": "code",
   "execution_count": 57,
   "metadata": {},
   "outputs": [
    {
     "name": "stdout",
     "output_type": "stream",
     "text": [
      "file name: pythona.jpg\n",
      "file mode: rb+\n",
      "file readable: True\n",
      "file writeable: True\n",
      "file closed: False\n",
      "file closed: True\n"
     ]
    }
   ],
   "source": [
    "f = open('pythona.jpg', mode ='wb+')\n",
    "\n",
    "print('file name:', f.name)\n",
    "print('file mode:', f.mode)\n",
    "print('file readable:', f.readable())\n",
    "print('file writeable:', f.writable())\n",
    "print('file closed:', f.closed)\n",
    "f.close()\n",
    "print('file closed:', f.closed)"
   ]
  },
  {
   "cell_type": "code",
   "execution_count": 58,
   "metadata": {},
   "outputs": [
    {
     "name": "stdout",
     "output_type": "stream",
     "text": [
      "file name: pythona.jpg\n",
      "file mode: ab+\n",
      "file readable: True\n",
      "file writeable: True\n",
      "file closed: False\n",
      "file closed: True\n"
     ]
    }
   ],
   "source": [
    "f = open('pythona.jpg', mode ='ab+')\n",
    "\n",
    "print('file name:', f.name)\n",
    "print('file mode:', f.mode)\n",
    "print('file readable:', f.readable())\n",
    "print('file writeable:', f.writable())\n",
    "print('file closed:', f.closed)\n",
    "f.close()\n",
    "print('file closed:', f.closed)"
   ]
  },
  {
   "cell_type": "code",
   "execution_count": 59,
   "metadata": {},
   "outputs": [
    {
     "name": "stdout",
     "output_type": "stream",
     "text": [
      "True\n"
     ]
    }
   ],
   "source": [
    "# check file exists\n",
    "\n",
    "import os\n",
    "print(os.path.isfile('student.txt'))"
   ]
  },
  {
   "cell_type": "code",
   "execution_count": 60,
   "metadata": {},
   "outputs": [
    {
     "name": "stdout",
     "output_type": "stream",
     "text": [
      "file opened\n"
     ]
    }
   ],
   "source": [
    "# best method to find file is exists or not\n",
    "import os \n",
    "if os.path.isfile('student.txt'):\n",
    "    f =open('student.txt')\n",
    "    print('file opened')\n",
    "    f.close()\n",
    "else:\n",
    "    print('file not found')\n",
    "    "
   ]
  },
  {
   "cell_type": "code",
   "execution_count": 63,
   "metadata": {},
   "outputs": [],
   "source": [
    "# writhing data to the file\n",
    "\n",
    "f = open('student.txt', mode = 'w')\n",
    "f.write('Hello\\n ')\n",
    "f.write('Greekshows\\n ')\n",
    "f.write('How are you\\n')\n",
    "f.close()"
   ]
  },
  {
   "cell_type": "code",
   "execution_count": 64,
   "metadata": {},
   "outputs": [],
   "source": [
    "f = open('student.txt', mode = 'a')\n",
    "f.write('Bye\\n ')\n",
    "f.write('Greekshows\\n ')\n",
    "f.write('How are you\\n')\n",
    "f.close()"
   ]
  },
  {
   "cell_type": "code",
   "execution_count": 66,
   "metadata": {},
   "outputs": [
    {
     "name": "stdout",
     "output_type": "stream",
     "text": [
      "Success\n"
     ]
    }
   ],
   "source": [
    "# writing  data to the file  writeline() method\n",
    "\n",
    "f = open('student.txt', mode = 'w')\n",
    "lst = ['anil\\n','pooja\\n','anjana\\n','vanaja\\n','susma\\n']\n",
    "f.writelines(lst)\n",
    "f.close()\n",
    "print('Success')"
   ]
  },
  {
   "cell_type": "code",
   "execution_count": 67,
   "metadata": {},
   "outputs": [
    {
     "name": "stdout",
     "output_type": "stream",
     "text": [
      "Success\n"
     ]
    }
   ],
   "source": [
    "f = open('student.txt', mode = 'a')\n",
    "lst = ['anil\\n','pooja\\n','anjana\\n','vanaja\\n','susma\\n']\n",
    "f.writelines(lst)\n",
    "f.close()\n",
    "print('Success')"
   ]
  },
  {
   "cell_type": "code",
   "execution_count": 69,
   "metadata": {},
   "outputs": [
    {
     "name": "stdout",
     "output_type": "stream",
     "text": [
      "anil\n",
      "pooja\n",
      "anjana\n",
      "vanaja\n",
      "susma\n",
      "anil\n",
      "pooja\n",
      "anjana\n",
      "vanaja\n",
      "susma\n",
      "\n",
      "completted*** \n"
     ]
    }
   ],
   "source": [
    "# read data from file\n",
    "\n",
    "f = open('student.txt', mode ='r')\n",
    "data = f.read()\n",
    "print(data)\n",
    "f.close()\n",
    "print('completted*** ')"
   ]
  },
  {
   "cell_type": "code",
   "execution_count": 73,
   "metadata": {},
   "outputs": [
    {
     "name": "stdout",
     "output_type": "stream",
     "text": [
      "an\n",
      "completted*** \n"
     ]
    }
   ],
   "source": [
    "f = open('student.txt', mode ='r')\n",
    "data = f.read(2)\n",
    "print(data)\n",
    "f.close()\n",
    "print('completted*** ')"
   ]
  },
  {
   "cell_type": "code",
   "execution_count": 74,
   "metadata": {},
   "outputs": [
    {
     "name": "stdout",
     "output_type": "stream",
     "text": [
      "anil\n",
      "\n"
     ]
    }
   ],
   "source": [
    "#reading data from file readline method\n",
    "f = open('student.txt', mode ='r')\n",
    "data = f.readline()\n",
    "print(data)\n",
    "f.close()"
   ]
  },
  {
   "cell_type": "code",
   "execution_count": 75,
   "metadata": {},
   "outputs": [
    {
     "name": "stdout",
     "output_type": "stream",
     "text": [
      "anil\n",
      "\n",
      "pooja\n",
      "\n"
     ]
    }
   ],
   "source": [
    "f = open('student.txt', mode ='r')\n",
    "data1 = f.readline()\n",
    "data2 = f.readline()\n",
    "print(data1)\n",
    "print(data2)\n",
    "f.close()\n"
   ]
  },
  {
   "cell_type": "code",
   "execution_count": 76,
   "metadata": {},
   "outputs": [
    {
     "name": "stdout",
     "output_type": "stream",
     "text": [
      "['anil\\n', 'pooja\\n', 'anjana\\n', 'vanaja\\n', 'susma\\n', 'anil\\n', 'pooja\\n', 'anjana\\n', 'vanaja\\n', 'susma\\n']\n"
     ]
    }
   ],
   "source": [
    "# using readlines method\n",
    "f = open('student.txt', mode ='r')\n",
    "data = f.readlines()\n",
    "print(data)\n",
    "f.close()"
   ]
  },
  {
   "cell_type": "code",
   "execution_count": 79,
   "metadata": {},
   "outputs": [
    {
     "name": "stdout",
     "output_type": "stream",
     "text": [
      "anil\n",
      "pooja\n",
      "anjana\n",
      "vanaja\n",
      "susma\n",
      "anil\n",
      "pooja\n",
      "anjana\n",
      "vanaja\n",
      "susma\n"
     ]
    }
   ],
   "source": [
    "f = open('student.txt', mode ='r')\n",
    "data = f.readlines()\n",
    "for i in data:\n",
    "    print(i, end = '')\n",
    "f.close()"
   ]
  },
  {
   "cell_type": "code",
   "execution_count": 89,
   "metadata": {},
   "outputs": [
    {
     "name": "stdout",
     "output_type": "stream",
     "text": [
      "<_io.TextIOWrapper name='student.txt' mode='w' encoding='cp1252'>\n"
     ]
    }
   ],
   "source": [
    "#tell and seek method\n",
    "\n",
    "f = open('student.txt', mode ='w')\n",
    "f.write( 'HelloGeekyshows')\n",
    "print(f)\n",
    "f.close()"
   ]
  },
  {
   "cell_type": "code",
   "execution_count": 93,
   "metadata": {},
   "outputs": [
    {
     "name": "stdout",
     "output_type": "stream",
     "text": [
      "0\n",
      "Hello\n",
      "5\n",
      "Gee\n",
      "8\n"
     ]
    }
   ],
   "source": [
    "f= open('student.txt', mode = 'r')\n",
    "print(f.tell())\n",
    "data1 = f.read(5)\n",
    "print(data1)\n",
    "print(f.tell())\n",
    "data2 = f.read(3)\n",
    "print(data2)\n",
    "print(f.tell())"
   ]
  },
  {
   "cell_type": "code",
   "execution_count": 95,
   "metadata": {},
   "outputs": [
    {
     "name": "stdout",
     "output_type": "stream",
     "text": [
      "0\n",
      "7\n",
      "ekyshows\n"
     ]
    }
   ],
   "source": [
    "# seek method\n",
    "\n",
    "f = open('student.txt', mode = 'r')\n",
    "print(f.tell())\n",
    "f.seek(7)\n",
    "print(f.tell())\n",
    "data = f.read()\n",
    "print(data)"
   ]
  },
  {
   "cell_type": "code",
   "execution_count": 96,
   "metadata": {},
   "outputs": [
    {
     "name": "stdout",
     "output_type": "stream",
     "text": [
      "0\n",
      "7\n",
      "ekyshows\n",
      "2\n",
      "lloGeekyshows\n"
     ]
    }
   ],
   "source": [
    "f = open('student.txt', mode = 'r')\n",
    "print(f.tell())\n",
    "f.seek(7)\n",
    "print(f.tell())\n",
    "data1 = f.read()\n",
    "print(data1)\n",
    "f.seek(2)\n",
    "print(f.tell())\n",
    "data2 = f.read()\n",
    "print(data2)\n"
   ]
  },
  {
   "cell_type": "code",
   "execution_count": 99,
   "metadata": {},
   "outputs": [
    {
     "name": "stdout",
     "output_type": "stream",
     "text": [
      "0\n",
      "22\n",
      "29\n",
      "HelloGeekyshowsYoutube\n",
      "29\n"
     ]
    }
   ],
   "source": [
    "# read and write\n",
    "\n",
    "f = open('student.txt', mode = 'r+')\n",
    "print(f.tell())\n",
    "data = f.read()\n",
    "print(f.tell())\n",
    "f.write(\"Youtube\")\n",
    "print(f.tell())\n",
    "print(data)\n",
    "print(f.tell())"
   ]
  },
  {
   "cell_type": "code",
   "execution_count": 102,
   "metadata": {},
   "outputs": [
    {
     "name": "stdout",
     "output_type": "stream",
     "text": [
      "0\n",
      "7\n",
      "0\n",
      "7\n",
      "Youtube\n"
     ]
    }
   ],
   "source": [
    "# writing and then reading  it will overwrite existing data\n",
    "\n",
    "f = open('student.txt', mode = 'w+')\n",
    "print(f.tell())\n",
    "f.write('Youtube')\n",
    "print(f.tell())\n",
    "f.seek(0)\n",
    "print(f.tell())\n",
    "data = f.read()\n",
    "print(f.tell())\n",
    "print(data)"
   ]
  },
  {
   "cell_type": "code",
   "execution_count": 106,
   "metadata": {},
   "outputs": [
    {
     "name": "stdout",
     "output_type": "stream",
     "text": [
      "14\n",
      "21\n",
      "21\n",
      "YoutubeYoutubeYoutube\n",
      "21\n"
     ]
    }
   ],
   "source": [
    "f = open('student.txt', mode = 'a+')\n",
    "print(f.tell())\n",
    "f.write('Youtube')\n",
    "print(f.tell())\n",
    "f.seek(0)\n",
    "data = f.read()\n",
    "print(f.tell())\n",
    "print(data)\n",
    "print(f.tell())"
   ]
  },
  {
   "cell_type": "code",
   "execution_count": 108,
   "metadata": {},
   "outputs": [],
   "source": [
    "#copy file conents in another file\n",
    "\n",
    "f1 = open('student.txt', mode ='r')\n",
    "f2 =  open('student1.txt', mode= 'w')\n",
    "data = f1.read()\n",
    "f2.write(data)\n",
    "f1.close()\n",
    "f2.close()"
   ]
  },
  {
   "cell_type": "code",
   "execution_count": 110,
   "metadata": {},
   "outputs": [
    {
     "name": "stdout",
     "output_type": "stream",
     "text": [
      "YoutubeYoutubeYoutube\n",
      "True\n"
     ]
    }
   ],
   "source": [
    "# file handling in with statement\n",
    "\n",
    "with open ('student.txt') as f :\n",
    "    data = f.read()\n",
    "    print(data)\n",
    "print(f.closed)"
   ]
  },
  {
   "cell_type": "code",
   "execution_count": 27,
   "metadata": {},
   "outputs": [
    {
     "ename": "TypeError",
     "evalue": "student() takes no arguments",
     "output_type": "error",
     "traceback": [
      "\u001b[1;31m---------------------------------------------------------------------------\u001b[0m",
      "\u001b[1;31mTypeError\u001b[0m                                 Traceback (most recent call last)",
      "\u001b[1;32m<ipython-input-27-cd6fd511ec44>\u001b[0m in \u001b[0;36m<module>\u001b[1;34m\u001b[0m\n\u001b[0;32m     12\u001b[0m \u001b[1;33m\u001b[0m\u001b[0m\n\u001b[0;32m     13\u001b[0m \u001b[1;32mwith\u001b[0m \u001b[0mopen\u001b[0m\u001b[1;33m(\u001b[0m\u001b[1;34m'student.dat'\u001b[0m\u001b[1;33m,\u001b[0m \u001b[0mmode\u001b[0m \u001b[1;33m=\u001b[0m\u001b[1;34m'wb'\u001b[0m\u001b[1;33m)\u001b[0m \u001b[1;32mas\u001b[0m \u001b[0mf\u001b[0m\u001b[1;33m:\u001b[0m\u001b[1;33m\u001b[0m\u001b[1;33m\u001b[0m\u001b[0m\n\u001b[1;32m---> 14\u001b[1;33m     \u001b[0mstu1\u001b[0m \u001b[1;33m=\u001b[0m \u001b[0mstudent\u001b[0m\u001b[1;33m(\u001b[0m\u001b[1;34m'anil'\u001b[0m\u001b[1;33m,\u001b[0m\u001b[1;36m100\u001b[0m\u001b[1;33m,\u001b[0m\u001b[1;34m'dharwad'\u001b[0m\u001b[1;33m)\u001b[0m\u001b[1;33m\u001b[0m\u001b[1;33m\u001b[0m\u001b[0m\n\u001b[0m\u001b[0;32m     15\u001b[0m     \u001b[0mpickle\u001b[0m\u001b[1;33m.\u001b[0m\u001b[0mdump\u001b[0m\u001b[1;33m(\u001b[0m\u001b[0mstu1\u001b[0m\u001b[1;33m,\u001b[0m \u001b[0mf\u001b[0m\u001b[1;33m)\u001b[0m\u001b[1;33m\u001b[0m\u001b[1;33m\u001b[0m\u001b[0m\n\u001b[0;32m     16\u001b[0m     \u001b[0mprint\u001b[0m\u001b[1;33m(\u001b[0m\u001b[1;34m'pickling done**'\u001b[0m\u001b[1;33m)\u001b[0m\u001b[1;33m\u001b[0m\u001b[1;33m\u001b[0m\u001b[0m\n",
      "\u001b[1;31mTypeError\u001b[0m: student() takes no arguments"
     ]
    }
   ],
   "source": [
    "#pickling and unpickling method in file handling\n",
    "\n",
    "import pickle\n",
    "class student:\n",
    "    def _init_(self,n, roll,address):\n",
    "        self.name = name\n",
    "        self.roll = roll\n",
    "        self.address = address\n",
    "    \n",
    "    def disp(self):\n",
    "        print(f'name: {self.name} Roll: {self.raoll} Address :{self.address}')\n",
    "    \n",
    "with open('student.dat', mode ='wb') as f:\n",
    "    stu1 = student('anil',100,'dharwad')\n",
    "    pickle.dump(stu1, f)\n",
    "    print('pickling done**')\n",
    "    "
   ]
  },
  {
   "cell_type": "code",
   "execution_count": null,
   "metadata": {},
   "outputs": [],
   "source": []
  },
  {
   "cell_type": "code",
   "execution_count": null,
   "metadata": {},
   "outputs": [],
   "source": []
  }
 ],
 "metadata": {
  "kernelspec": {
   "display_name": "Python 3",
   "language": "python",
   "name": "python3"
  },
  "language_info": {
   "codemirror_mode": {
    "name": "ipython",
    "version": 3
   },
   "file_extension": ".py",
   "mimetype": "text/x-python",
   "name": "python",
   "nbconvert_exporter": "python",
   "pygments_lexer": "ipython3",
   "version": "3.7.3"
  }
 },
 "nbformat": 4,
 "nbformat_minor": 4
}
