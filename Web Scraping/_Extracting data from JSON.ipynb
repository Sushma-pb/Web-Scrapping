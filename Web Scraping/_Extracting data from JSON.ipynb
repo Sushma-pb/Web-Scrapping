{
 "cells": [
  {
   "cell_type": "markdown",
   "metadata": {},
   "source": [
    "# json to csv convert using python"
   ]
  },
  {
   "cell_type": "code",
   "execution_count": 1,
   "metadata": {},
   "outputs": [
    {
     "ename": "SyntaxError",
     "evalue": "invalid syntax (<ipython-input-1-0921c2244ba4>, line 10)",
     "output_type": "error",
     "traceback": [
      "\u001b[1;36m  File \u001b[1;32m\"<ipython-input-1-0921c2244ba4>\"\u001b[1;36m, line \u001b[1;32m10\u001b[0m\n\u001b[1;33m    for item in data([item['Name'],item['age'],item['marks'],item['Country']])\u001b[0m\n\u001b[1;37m                                                                              ^\u001b[0m\n\u001b[1;31mSyntaxError\u001b[0m\u001b[1;31m:\u001b[0m invalid syntax\n"
     ]
    }
   ],
   "source": [
    "import json\n",
    "import csv\n",
    "with open(\"./my_json.txt\")as file:\n",
    "    data = json.load(file)\n",
    "    \n",
    "fname = \"output.csv\"\n",
    "with open(fname, \"w\")as file:\n",
    "    csv_file = csv.writer(file)\n",
    "    csv_file.writerow[\"Name\",\"Age\",\"Marks\",\"Country\"]\n",
    "    for item in data([item['Name'],item['age'],item['marks'],item['Country']])\n",
    "    "
   ]
  },
  {
   "cell_type": "code",
   "execution_count": null,
   "metadata": {},
   "outputs": [],
   "source": []
  }
 ],
 "metadata": {
  "kernelspec": {
   "display_name": "Python 3",
   "language": "python",
   "name": "python3"
  },
  "language_info": {
   "codemirror_mode": {
    "name": "ipython",
    "version": 3
   },
   "file_extension": ".py",
   "mimetype": "text/x-python",
   "name": "python",
   "nbconvert_exporter": "python",
   "pygments_lexer": "ipython3",
   "version": "3.8.5"
  }
 },
 "nbformat": 4,
 "nbformat_minor": 4
}
